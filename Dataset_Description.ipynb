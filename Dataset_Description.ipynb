{
  "nbformat": 4,
  "nbformat_minor": 0,
  "metadata": {
    "colab": {
      "provenance": [],
      "authorship_tag": "ABX9TyNRJ3J0T3i+JETmERsV5yeS",
      "include_colab_link": true
    },
    "kernelspec": {
      "name": "python3",
      "display_name": "Python 3"
    },
    "language_info": {
      "name": "python"
    }
  },
  "cells": [
    {
      "cell_type": "markdown",
      "metadata": {
        "id": "view-in-github",
        "colab_type": "text"
      },
      "source": [
        "<a href=\"https://colab.research.google.com/github/MalikaIT21277122/TimeSeriesAnalysis/blob/main/Dataset_Description.ipynb\" target=\"_parent\"><img src=\"https://colab.research.google.com/assets/colab-badge.svg\" alt=\"Open In Colab\"/></a>"
      ]
    },
    {
      "cell_type": "code",
      "execution_count": 1,
      "metadata": {
        "colab": {
          "base_uri": "https://localhost:8080/"
        },
        "id": "as7_X52nxqsE",
        "outputId": "c1827871-5190-4151-e022-ea9adb8f1d20"
      },
      "outputs": [
        {
          "output_type": "stream",
          "name": "stdout",
          "text": [
            "Defect Facts: 35367 rows\n",
            "Component Data: 1223 rows\n",
            "Time Logs: 203621 rows\n",
            "Task Facts: 61817 rows\n",
            "Size Facts: 15942 rows\n",
            "Project Summary: 36 rows\n",
            "Project Data: 33 rows\n",
            "\n",
            "Total Rows Across All Datasets: 318039\n"
          ]
        }
      ],
      "source": [
        "import pandas as pd\n",
        "\n",
        "# Load the datasets\n",
        "defects = pd.read_csv(\"CESAW_defect_facts.csv\")\n",
        "components = pd.read_csv(\"CESAW_Component_Data.csv\")\n",
        "time_logs = pd.read_csv(\"CESAW_time_fact.csv\")\n",
        "tasks = pd.read_csv(\"CESAW_task_fact.csv\")\n",
        "size_info = pd.read_csv(\"CESAW_size_facts.csv\")\n",
        "project_summary = pd.read_csv(\"CESAW_project_summary.csv\")\n",
        "project_facts = pd.read_csv(\"CESAW_Project_Data.csv\")\n",
        "\n",
        "# Count rows in each dataset\n",
        "datasets = {\n",
        "    \"Defect Facts\": len(defects),\n",
        "    \"Component Data\": len(components),\n",
        "    \"Time Logs\": len(time_logs),\n",
        "    \"Task Facts\": len(tasks),\n",
        "    \"Size Facts\": len(size_info),\n",
        "    \"Project Summary\": len(project_summary),\n",
        "    \"Project Data\": len(project_facts)\n",
        "}\n",
        "\n",
        "# Total rows\n",
        "total_rows = sum(datasets.values())\n",
        "\n",
        "# Print counts\n",
        "for name, count in datasets.items():\n",
        "    print(f\"{name}: {count} rows\")\n",
        "\n",
        "print(f\"\\nTotal Rows Across All Datasets: {total_rows}\")\n"
      ]
    }
  ]
}