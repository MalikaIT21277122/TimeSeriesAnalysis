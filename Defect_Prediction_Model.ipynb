{
  "cells": [
    {
      "cell_type": "markdown",
      "metadata": {
        "id": "view-in-github",
        "colab_type": "text"
      },
      "source": [
        "<a href=\"https://colab.research.google.com/github/MalikaIT21277122/TimeSeriesAnalysis/blob/main/Defect_Prediction_Model.ipynb\" target=\"_parent\"><img src=\"https://colab.research.google.com/assets/colab-badge.svg\" alt=\"Open In Colab\"/></a>"
      ]
    },
    {
      "cell_type": "code",
      "execution_count": null,
      "metadata": {
        "colab": {
          "base_uri": "https://localhost:8080/"
        },
        "id": "PVspfJGr5SCc",
        "outputId": "376108d4-84ec-4894-f9cd-c1a140eccbba"
      },
      "outputs": [
        {
          "metadata": {
            "tags": null
          },
          "name": "stdout",
          "output_type": "stream",
          "text": [
            "   project_key  defect_fix_count  team_key  task_actual_time_minutes  \\\n",
            "0           23               1.0       NaN                       NaN   \n",
            "1           23               1.0       NaN                       NaN   \n",
            "2           23               1.0       NaN                       NaN   \n",
            "3           23               1.0       NaN                       NaN   \n",
            "4           23               1.0       NaN                       NaN   \n",
            "\n",
            "   task_plan_time_minutes  size_added_and_modified  size_deleted  \n",
            "0                     NaN                      1.0           0.0  \n",
            "1                     NaN                      2.0           0.0  \n",
            "2                     NaN                     10.0           0.0  \n",
            "3                     NaN                     16.0          10.0  \n",
            "4                     NaN                      5.0           0.0  \n",
            "Merged Data Shape: (37179505, 7)\n",
            "Selected Features Columns: ['team_key', 'task_plan_time_minutes', 'size_added_and_modified', 'size_deleted', 'task_actual_time_minutes']\n",
            "Target Column: defect_fix_count\n",
            "Number of Non-Null Records in X: team_key                    34758498\n",
            "task_plan_time_minutes      34758498\n",
            "size_added_and_modified     37179457\n",
            "size_deleted                37179457\n",
            "task_actual_time_minutes    34758498\n",
            "dtype: int64\n",
            "Number of Non-Null Records in y: 36598002\n"
          ]
        }
      ],
      "source": [
        "# Import necessary libraries\n",
        "import pandas as pd\n",
        "import numpy as np\n",
        "from sklearn.model_selection import train_test_split\n",
        "from sklearn.ensemble import RandomForestRegressor\n",
        "from sklearn.metrics import mean_squared_error, mean_absolute_error, r2_score\n",
        "import matplotlib.pyplot as plt\n",
        "\n",
        "# Step 1: Load the datasets with limited rows\n",
        "nrows_limit = 5000  # Increase limit to debug\n",
        "defect_facts = pd.read_csv(\"CESAW_defect_facts.csv\", usecols=['project_key', 'defect_fix_count'], nrows=nrows_limit)\n",
        "task_facts = pd.read_csv(\"CESAW_task_fact.csv\", usecols=['project_key', 'team_key', 'task_plan_time_minutes', 'task_actual_time_minutes'], nrows=nrows_limit)\n",
        "size_facts = pd.read_csv(\"CESAW_size_facts.csv\", usecols=['project_key', 'size_added_and_modified', 'size_deleted'], nrows=nrows_limit)\n",
        "\n",
        "# Step 2: Merge relevant datasets with 'outer' to debug mismatches\n",
        "merged_data = pd.merge(defect_facts, task_facts, on=\"project_key\", suffixes=('_defect', '_task'), how='outer')\n",
        "merged_data = pd.merge(merged_data, size_facts, on=\"project_key\", suffixes=('', '_size'), how='outer')\n",
        "\n",
        "# Debug: Print merged dataset\n",
        "print(merged_data.head())\n",
        "print(f\"Merged Data Shape: {merged_data.shape}\")\n",
        "\n",
        "# Step 3: Prepare the data\n",
        "features = ['team_key', 'task_plan_time_minutes', 'size_added_and_modified', 'size_deleted', 'task_actual_time_minutes']\n",
        "target = 'defect_fix_count'\n",
        "\n",
        "# Verify columns\n",
        "if not all(col in merged_data.columns for col in features + [target]):\n",
        "    raise ValueError(\"One or more required columns are missing from the merged dataset.\")\n",
        "\n",
        "# Select features and target\n",
        "X = merged_data[features]\n",
        "y = merged_data[target]\n",
        "\n",
        "# Debug: Check feature and target statistics\n",
        "print(\"Selected Features Columns:\", features)\n",
        "print(f\"Target Column: {target}\")\n",
        "print(\"Number of Non-Null Records in X:\", X.notnull().sum())\n",
        "print(\"Number of Non-Null Records in y:\", y.notnull().sum())\n",
        "\n",
        "# Fill missing values\n",
        "X = X.fillna(0)\n",
        "y = y.fillna(0)\n",
        "\n",
        "# Ensure data is not empty\n",
        "if X.empty or y.empty:\n",
        "    raise ValueError(\"The dataset has insufficient data after processing. Please check the input files.\")\n",
        "\n",
        "# Step 4: Split the dataset\n",
        "X_train, X_test, y_train, y_test = train_test_split(X, y, test_size=0.2, random_state=42)\n",
        "\n",
        "# Step 5: Train the Random Forest model\n",
        "rf_model = RandomForestRegressor(n_estimators=100, random_state=42)\n",
        "rf_model.fit(X_train, y_train)\n",
        "\n",
        "# Step 6: Predict and evaluate the model\n",
        "y_pred = rf_model.predict(X_test)\n",
        "\n",
        "# Calculate evaluation metrics\n",
        "mse = mean_squared_error(y_test, y_pred)\n",
        "mae = mean_absolute_error(y_test, y_pred)\n",
        "r2 = r2_score(y_test, y_pred)\n",
        "\n",
        "# Print the metrics\n",
        "print(\"Model: Random Forest (Defect Prediction)\")\n",
        "print(f\"Mean Squared Error (MSE): {mse}\")\n",
        "print(f\"Mean Absolute Error (MAE): {mae}\")\n",
        "print(f\"R² Score: {r2}\")\n"
      ]
    }
  ],
  "metadata": {
    "colab": {
      "provenance": [],
      "authorship_tag": "ABX9TyMrFDdcTQwzPWada2oOKvM8",
      "include_colab_link": true
    },
    "kernelspec": {
      "display_name": "Python 3",
      "name": "python3"
    },
    "language_info": {
      "name": "python"
    }
  },
  "nbformat": 4,
  "nbformat_minor": 0
}